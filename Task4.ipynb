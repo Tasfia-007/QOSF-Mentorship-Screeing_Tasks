{
  "nbformat": 4,
  "nbformat_minor": 0,
  "metadata": {
    "colab": {
      "provenance": [],
      "authorship_tag": "ABX9TyOj64FPD/3m4SUw+K72/9K0",
      "include_colab_link": true
    },
    "kernelspec": {
      "name": "python3",
      "display_name": "Python 3"
    },
    "language_info": {
      "name": "python"
    }
  },
  "cells": [
    {
      "cell_type": "markdown",
      "metadata": {
        "id": "view-in-github",
        "colab_type": "text"
      },
      "source": [
        "<a href=\"https://colab.research.google.com/github/Tasfia-007/QOSF-Mentorship-Screeing_Tasks/blob/main/Task4.ipynb\" target=\"_parent\"><img src=\"https://colab.research.google.com/assets/colab-badge.svg\" alt=\"Open In Colab\"/></a>"
      ]
    },
    {
      "cell_type": "code",
      "source": [
        "!pip install qiskit\n",
        "\n",
        "\n",
        "from qiskit import QuantumCircuit, transpile\n",
        "import numpy as np\n",
        "\n",
        "# Initialize a 5-qubit circuit\n",
        "qc = QuantumCircuit(5)\n",
        "\n",
        "# Apply X gates to set specific qubits for the desired basis states\n",
        "qc.x(0)  # Targeting qubit 0 for certain states\n",
        "qc.x(2)\n",
        "qc.x(4)\n",
        "\n",
        "# Entangle qubits using CX gates to isolate target states\n",
        "qc.cx(0, 1)\n",
        "qc.cx(1, 4)\n",
        "qc.cx(2, 4)\n",
        "qc.cx(3, 4)\n",
        "qc.cx(2, 3)\n",
        "\n",
        "# Apply RZ rotations to adjust phases of specific qubits\n",
        "for qubit in [0, 1, 2, 3]:\n",
        "    qc.rz(np.pi/2, qubit)\n",
        "\n",
        "# Optimize the circuit with the specified basis gates and optimization level\n",
        "basis_gates = ['x', 'h', 'rz', 'cx']\n",
        "optimized_qc = transpile(qc, basis_gates=basis_gates, optimization_level=3)\n",
        "\n",
        "# Visualize the circuit\n",
        "print(optimized_qc.draw(output='text'))\n"
      ],
      "metadata": {
        "colab": {
          "base_uri": "https://localhost:8080/"
        },
        "id": "msP2GtAwRHAH",
        "outputId": "53881f55-aeef-4489-92e1-ca5eb429085e"
      },
      "execution_count": 23,
      "outputs": [
        {
          "output_type": "stream",
          "name": "stdout",
          "text": [
            "Requirement already satisfied: qiskit in /usr/local/lib/python3.10/dist-packages (1.2.4)\n",
            "Requirement already satisfied: rustworkx>=0.15.0 in /usr/local/lib/python3.10/dist-packages (from qiskit) (0.15.1)\n",
            "Requirement already satisfied: numpy<3,>=1.17 in /usr/local/lib/python3.10/dist-packages (from qiskit) (1.26.4)\n",
            "Requirement already satisfied: scipy>=1.5 in /usr/local/lib/python3.10/dist-packages (from qiskit) (1.13.1)\n",
            "Requirement already satisfied: sympy>=1.3 in /usr/local/lib/python3.10/dist-packages (from qiskit) (1.13.3)\n",
            "Requirement already satisfied: dill>=0.3 in /usr/local/lib/python3.10/dist-packages (from qiskit) (0.3.9)\n",
            "Requirement already satisfied: python-dateutil>=2.8.0 in /usr/local/lib/python3.10/dist-packages (from qiskit) (2.8.2)\n",
            "Requirement already satisfied: stevedore>=3.0.0 in /usr/local/lib/python3.10/dist-packages (from qiskit) (5.3.0)\n",
            "Requirement already satisfied: typing-extensions in /usr/local/lib/python3.10/dist-packages (from qiskit) (4.12.2)\n",
            "Requirement already satisfied: symengine<0.14,>=0.11 in /usr/local/lib/python3.10/dist-packages (from qiskit) (0.13.0)\n",
            "Requirement already satisfied: six>=1.5 in /usr/local/lib/python3.10/dist-packages (from python-dateutil>=2.8.0->qiskit) (1.16.0)\n",
            "Requirement already satisfied: pbr>=2.0.0 in /usr/local/lib/python3.10/dist-packages (from stevedore>=3.0.0->qiskit) (6.1.0)\n",
            "Requirement already satisfied: mpmath<1.4,>=1.1.0 in /usr/local/lib/python3.10/dist-packages (from sympy>=1.3->qiskit) (1.3.0)\n",
            "     ┌───┐     ┌─────────┐                                \n",
            "q_0: ┤ X ├──■──┤ Rz(π/2) ├────────────────────────────────\n",
            "     └───┘┌─┴─┐└─────────┘┌─────────┐                     \n",
            "q_1: ─────┤ X ├─────■─────┤ Rz(π/2) ├─────────────────────\n",
            "     ┌───┐└───┘     │     └─────────┘          ┌─────────┐\n",
            "q_2: ┤ X ├──────────┼──────────■────────────■──┤ Rz(π/2) ├\n",
            "     └───┘          │          │          ┌─┴─┐├─────────┤\n",
            "q_3: ───────────────┼──────────┼───────■──┤ X ├┤ Rz(π/2) ├\n",
            "     ┌───┐        ┌─┴─┐      ┌─┴─┐   ┌─┴─┐└───┘└─────────┘\n",
            "q_4: ┤ X ├────────┤ X ├──────┤ X ├───┤ X ├────────────────\n",
            "     └───┘        └───┘      └───┘   └───┘                \n"
          ]
        }
      ]
    }
  ]
}